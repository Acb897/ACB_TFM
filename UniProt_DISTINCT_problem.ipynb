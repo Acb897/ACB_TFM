{
 "cells": [
  {
   "cell_type": "code",
   "execution_count": 4,
   "metadata": {},
   "outputs": [
    {
     "name": "stdout",
     "output_type": "stream",
     "text": [
      "http://www.openlinksw.com/schemas/virtrdf#QuadMapFormat\n",
      "http://www.openlinksw.com/schemas/virtrdf#QuadMapFormat\n",
      "http://www.openlinksw.com/schemas/virtrdf#QuadMapFormat\n",
      "http://www.openlinksw.com/schemas/virtrdf#QuadMapFormat\n",
      "http://www.openlinksw.com/schemas/virtrdf#QuadMapFormat\n",
      "http://www.openlinksw.com/schemas/virtrdf#QuadMapFormat\n",
      "http://www.openlinksw.com/schemas/virtrdf#QuadMapFormat\n",
      "http://www.openlinksw.com/schemas/virtrdf#QuadMapFormat\n",
      "http://www.openlinksw.com/schemas/virtrdf#QuadMapFormat\n",
      "http://www.openlinksw.com/schemas/virtrdf#QuadMapFormat\n",
      "\n"
     ]
    }
   ],
   "source": [
    "require 'sparql/client'\n",
    "\n",
    "endpoint = \"http://sparql.uniprot.org/sparql\" \n",
    "\n",
    "query = <<END\n",
    "\n",
    "SELECT ?type              \n",
    "WHERE {\n",
    "       ?subject a ?type .\n",
    "} limit 10\n",
    "END\n",
    "\n",
    "\n",
    "\n",
    "sparql = SPARQL::Client.new(endpoint)  # create a SPARQL client\n",
    "result = sparql.query(query)  # Execute query\n",
    "types_array = Array.new\n",
    "result.each do |solution|\n",
    "  puts solution[:type]\n",
    "end\n",
    "\n",
    "puts \"\""
   ]
  },
  {
   "cell_type": "code",
   "execution_count": null,
   "metadata": {},
   "outputs": [
    {
     "ename": "NoMethodError",
     "evalue": "undefined method `[]' for nil:NilClass",
     "output_type": "error",
     "traceback": [
      "\u001b[31mNoMethodError\u001b[0m: undefined method `[]' for nil:NilClass",
      "/var/lib/gems/2.5.0/gems/net-http-persistent-3.1.0/lib/net/http/persistent/pool.rb:14:in `checkin'",
      "/var/lib/gems/2.5.0/gems/net-http-persistent-3.1.0/lib/net/http/persistent.rb:674:in `ensure in connection_for'",
      "/var/lib/gems/2.5.0/gems/net-http-persistent-3.1.0/lib/net/http/persistent.rb:674:in `connection_for'",
      "/var/lib/gems/2.5.0/gems/net-http-persistent-3.1.0/lib/net/http/persistent.rb:958:in `request'",
      "/var/lib/gems/2.5.0/gems/sparql-client-3.1.0/lib/sparql/client.rb:727:in `block in request'",
      "/var/lib/gems/2.5.0/gems/sparql-client-3.1.0/lib/sparql/client.rb:725:in `times'",
      "/var/lib/gems/2.5.0/gems/sparql-client-3.1.0/lib/sparql/client.rb:725:in `request'",
      "/var/lib/gems/2.5.0/gems/sparql-client-3.1.0/lib/sparql/client.rb:365:in `response'",
      "/var/lib/gems/2.5.0/gems/sparql-client-3.1.0/lib/sparql/client.rb:324:in `query'",
      "(pry):113:in `<main>'",
      "/var/lib/gems/2.5.0/gems/pry-0.13.1/lib/pry/pry_instance.rb:290:in `eval'",
      "/var/lib/gems/2.5.0/gems/pry-0.13.1/lib/pry/pry_instance.rb:290:in `evaluate_ruby'",
      "/var/lib/gems/2.5.0/gems/pry-0.13.1/lib/pry/pry_instance.rb:659:in `handle_line'",
      "/var/lib/gems/2.5.0/gems/pry-0.13.1/lib/pry/pry_instance.rb:261:in `block (2 levels) in eval'",
      "/var/lib/gems/2.5.0/gems/pry-0.13.1/lib/pry/pry_instance.rb:260:in `catch'",
      "/var/lib/gems/2.5.0/gems/pry-0.13.1/lib/pry/pry_instance.rb:260:in `block in eval'",
      "/var/lib/gems/2.5.0/gems/pry-0.13.1/lib/pry/pry_instance.rb:259:in `catch'",
      "/var/lib/gems/2.5.0/gems/pry-0.13.1/lib/pry/pry_instance.rb:259:in `eval'",
      "/var/lib/gems/2.5.0/gems/iruby-0.4.0/lib/iruby/backend.rb:66:in `eval'",
      "/var/lib/gems/2.5.0/gems/iruby-0.4.0/lib/iruby/backend.rb:12:in `eval'",
      "/var/lib/gems/2.5.0/gems/iruby-0.4.0/lib/iruby/kernel.rb:90:in `execute_request'",
      "/var/lib/gems/2.5.0/gems/iruby-0.4.0/lib/iruby/kernel.rb:49:in `dispatch'",
      "/var/lib/gems/2.5.0/gems/iruby-0.4.0/lib/iruby/kernel.rb:38:in `run'",
      "/var/lib/gems/2.5.0/gems/iruby-0.4.0/lib/iruby/command.rb:110:in `run_kernel'",
      "/var/lib/gems/2.5.0/gems/iruby-0.4.0/lib/iruby/command.rb:40:in `run'",
      "/var/lib/gems/2.5.0/gems/iruby-0.4.0/bin/iruby:5:in `<main>'"
     ]
    }
   ],
   "source": [
    "require 'sparql/client'\n",
    "\n",
    "endpoint = \"http://sparql.uniprot.org/sparql\"\n",
    "\n",
    "query = <<END\n",
    "\n",
    "SELECT DISTINCT ?type                           \n",
    "WHERE {\n",
    "       ?subject a ?type .\n",
    "} limit 10\n",
    "END\n",
    "\n",
    "\n",
    "\n",
    "sparql = SPARQL::Client.new(endpoint)\n",
    "result = sparql.query(query)\n",
    "types_array = Array.new\n",
    "result.each do |solution|\n",
    "  puts solution[:type]\n",
    "end\n",
    "\n",
    "puts \"\""
   ]
  },
  {
   "cell_type": "markdown",
   "metadata": {},
   "source": [
    "I also have a question"
   ]
  },
  {
   "cell_type": "code",
   "execution_count": null,
   "metadata": {},
   "outputs": [],
   "source": [
    "require 'sparql/client'\n",
    "\n",
    "endpoint = \"http://sparql.uniprot.org/sparql\"  # what location are we querying?\n",
    "\n",
    "query = <<END\n",
    "\n",
    "SELECT ?type                           # note that ?name and ?image becomes the Ruby symbol :name and :image\n",
    "WHERE {\n",
    "       ?subject a ?type .\n",
    "} limit 10\n",
    "END\n",
    "\n",
    "\n",
    "\n",
    "sparql = SPARQL::Client.new(endpoint)  # create a SPARQL client\n",
    "result = sparql.query(query)  # Execute query\n",
    "types_array = Array.new\n",
    "result.each do |solution|\n",
    "    #puts \"Type: #{solution[:type]}\"  # call the pairs of variables in our query\n",
    "    #puts solution[:type]\n",
    "    if types_array.include? solution[:type]\n",
    "        next\n",
    "    else\n",
    "        types_array << solution[:type]\n",
    "    end\n",
    "end\n",
    "\n",
    "puts types_array\n",
    "\n",
    "types_array.each do |type|\n",
    "    query = <<END\n",
    "\n",
    "    SELECT ?predicate ?subject\n",
    "    WHERE {\n",
    "        #{type} ?predicate ?subject . \n",
    "    } limit 10\n",
    "    END\n",
    "\n",
    "\n",
    "\n",
    "    result = sparql.query(query)  # Execute query\n",
    "end    "
   ]
  },
  {
   "cell_type": "markdown",
   "metadata": {},
   "source": [
    "In the cell above, it seems that the \"result\" line of code (second line starting from the bottom) is being considered as part of the query. How do I change that behaviour so that it works as the example you shoe"
   ]
  }
 ],
 "metadata": {
  "kernelspec": {
   "display_name": "Ruby 2.5.1",
   "language": "ruby",
   "name": "ruby"
  },
  "language_info": {
   "file_extension": ".rb",
   "mimetype": "application/x-ruby",
   "name": "ruby",
   "version": "2.5.1"
  }
 },
 "nbformat": 4,
 "nbformat_minor": 2
}
